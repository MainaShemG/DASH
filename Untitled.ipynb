{
 "cells": [
  {
   "cell_type": "code",
   "execution_count": 1,
   "id": "563bf846",
   "metadata": {},
   "outputs": [
    {
     "name": "stderr",
     "output_type": "stream",
     "text": [
      "/tmp/ipykernel_75375/2181636898.py:2: UserWarning: \n",
      "The dash_table package is deprecated. Please replace\n",
      "`import dash_table` with `from dash import dash_table`\n",
      "\n",
      "Also, if you're using any of the table format helpers (e.g. Group), replace \n",
      "`from dash_table.Format import Group` with \n",
      "`from dash.dash_table.Format import Group`\n",
      "  import dash_table\n",
      "/tmp/ipykernel_75375/2181636898.py:3: UserWarning: \n",
      "The dash_core_components package is deprecated. Please replace\n",
      "`import dash_core_components as dcc` with `from dash import dcc`\n",
      "  import dash_core_components as dcc\n",
      "/tmp/ipykernel_75375/2181636898.py:4: UserWarning: \n",
      "The dash_html_components package is deprecated. Please replace\n",
      "`import dash_html_components as html` with `from dash import html`\n",
      "  import dash_html_components as html\n"
     ]
    }
   ],
   "source": [
    "import dash\n",
    "import dash_table\n",
    "import dash_core_components as dcc\n",
    "import dash_html_components as html\n",
    "import dash_bootstrap_components as dbc\n",
    "from dash.dependencies import Input, Output, State\n",
    "import chart_studio.plotly as py"
   ]
  },
  {
   "cell_type": "code",
   "execution_count": 2,
   "id": "9d1669c7",
   "metadata": {},
   "outputs": [],
   "source": [
    "import numpy as np\n",
    "import pandas as pd "
   ]
  },
  {
   "cell_type": "code",
   "execution_count": 3,
   "id": "4c288a4f",
   "metadata": {},
   "outputs": [],
   "source": [
    "external_stylesheets = ['https://codepen.io/chriddyp/pen/bWLwgP.css']"
   ]
  },
  {
   "cell_type": "code",
   "execution_count": 4,
   "id": "570470df",
   "metadata": {},
   "outputs": [],
   "source": [
    "app = dash.Dash(__name__, external_stylesheets=external_stylesheets)\n",
    "server = app.server "
   ]
  },
  {
   "cell_type": "code",
   "execution_count": 5,
   "id": "0a8e03d5",
   "metadata": {},
   "outputs": [],
   "source": [
    "df = pd.read_csv('restaurants_zomato.csv',encoding=\"ISO-8859-1\")"
   ]
  },
  {
   "cell_type": "code",
   "execution_count": 6,
   "id": "8a5ea7af",
   "metadata": {},
   "outputs": [],
   "source": [
    "navbar = dbc.Nav()"
   ]
  },
  {
   "cell_type": "code",
   "execution_count": 7,
   "id": "c947ad1d",
   "metadata": {},
   "outputs": [
    {
     "data": {
      "text/plain": [
       "Index(['Unnamed: 0.1', 'Unnamed: 0', 'Restaurant ID', 'Restaurant Name',\n",
       "       'Country Code', 'City', 'Address', 'Locality', 'Locality Verbose',\n",
       "       'Longitude', 'Latitude', 'Cuisines', 'Average Cost for two', 'Currency',\n",
       "       'Has Table booking', 'Has Online delivery', 'Is delivering now',\n",
       "       'Switch to order menu', 'Price range', 'Aggregate rating',\n",
       "       'Rating color', 'Rating text', 'Votes', 'address', 'country_code'],\n",
       "      dtype='object')"
      ]
     },
     "execution_count": 7,
     "metadata": {},
     "output_type": "execute_result"
    }
   ],
   "source": [
    "df.columns"
   ]
  },
  {
   "cell_type": "code",
   "execution_count": 8,
   "id": "5bec0a31",
   "metadata": {},
   "outputs": [],
   "source": [
    "# country iso with counts\n",
    "col_label = \"country_code\"\n",
    "col_values = \"count\"\n",
    "\n",
    "v = df[col_label].value_counts()\n",
    "new = pd.DataFrame({\n",
    "    col_label: v.index,\n",
    "    col_values: v.values\n",
    "})"
   ]
  },
  {
   "cell_type": "code",
   "execution_count": 9,
   "id": "e4ea0fa2",
   "metadata": {},
   "outputs": [],
   "source": [
    "hexcode = 0\n",
    "\n",
    "borders = [hexcode for x in range(len(new))],\n",
    "map = dcc.Graph(\n",
    "\n",
    "            id='8',\n",
    "            figure = {\n",
    "            'data': [{\n",
    "            'locations':new['country_code'],\n",
    "            'z':new['count'],\n",
    "            'colorscale': 'Earth',\n",
    "            'reversescale':True,\n",
    "            'hover-name':new['country_code'],\n",
    "            'type': 'choropleth'\n",
    "            \n",
    "            }],\n",
    "            \n",
    "            'layout':{'title':dict(\n",
    "            \n",
    "                text = 'Restaurant Frequency by Location',\n",
    "                font = dict(size=20,\n",
    "                color = 'white')),\n",
    "                \"paper_bgcolor\":\"#111111\",\n",
    "                \"plot_bgcolor\":\"#111111\",\n",
    "                \"height\": 800,\n",
    "                \"geo\":dict(bgcolor= 'rgba(0,0,0,0)') } \n",
    "                \n",
    "                })"
   ]
  },
  {
   "cell_type": "code",
   "execution_count": 10,
   "id": "d6db428f",
   "metadata": {},
   "outputs": [],
   "source": [
    "import plotly.graph_objects as go"
   ]
  },
  {
   "cell_type": "code",
   "execution_count": 11,
   "id": "55ba899a",
   "metadata": {},
   "outputs": [],
   "source": [
    "df2 = pd.DataFrame(df.groupby(by='Restaurant Name')['Votes'].mean())\n",
    "df2 = df2.reset_index()\n",
    "df2 = df2.sort_values(['Votes'],ascending=False)\n",
    "df3 = df2.head(10)\n",
    "\n",
    "bar1 =  dcc.Graph(id='bar1',\n",
    "              figure={\n",
    "        'data': [go.Bar(x=df3['Restaurant Name'],\n",
    "                        y=df3['Votes'])],\n",
    "        'layout': {'title':dict(\n",
    "            text = 'Top Restaurants in India',\n",
    "            font = dict(size=20,\n",
    "            color = 'white')),\n",
    "        \"paper_bgcolor\":\"#111111\",\n",
    "        \"plot_bgcolor\":\"#111111\",\n",
    "        'height':600,\n",
    "        \"line\":dict(\n",
    "                color=\"white\",\n",
    "                width=4,\n",
    "                dash=\"dash\",\n",
    "            ),\n",
    "        'xaxis' : dict(tickfont=dict(\n",
    "            color='white'),showgrid=False,title='',color='white'),\n",
    "        'yaxis' : dict(tickfont=dict(\n",
    "            color='white'),showgrid=False,title='Number of Votes',color='white')\n",
    "    }})"
   ]
  },
  {
   "cell_type": "code",
   "execution_count": 12,
   "id": "026a284f",
   "metadata": {},
   "outputs": [],
   "source": [
    "col_label = \"Rating text\"\n",
    "col_values = \"Count\"\n",
    "\n",
    "v = df[col_label].value_counts()\n",
    "new2 = pd.DataFrame({\n",
    "    col_label: v.index,\n",
    "    col_values: v.values\n",
    "})\n",
    "\n",
    "pie3 = dcc.Graph(\n",
    "        id = \"pie3\",\n",
    "        figure = {\n",
    "          \"data\": [\n",
    "            {\n",
    "            \"labels\":new2['Rating text'],\n",
    "            \"values\":new2['Count'],\n",
    "              \"hoverinfo\":\"label+percent\",\n",
    "              \"hole\": .7,\n",
    "              \"type\": \"pie\",\n",
    "                 'marker': {'colors': [\n",
    "                                                   '#0052cc',  \n",
    "                                                   '#3385ff',\n",
    "                                                   '#99c2ff'\n",
    "                                                  ]\n",
    "                                       },\n",
    "             \"showlegend\": True\n",
    "}],\n",
    "          \"layout\": {\n",
    "                \"title\" : dict(text =\"Rating Distribution\",\n",
    "                               font =dict(\n",
    "                               size=20,\n",
    "                               color = 'white')),\n",
    "                \"paper_bgcolor\":\"#111111\",\n",
    "                \"showlegend\":True,\n",
    "                'height':600,\n",
    "                'marker': {'colors': [\n",
    "                                                 '#0052cc',  \n",
    "                                                 '#3385ff',\n",
    "                                                 '#99c2ff'\n",
    "                                                ]\n",
    "                                     },\n",
    "                \"annotations\": [\n",
    "                    {\n",
    "                        \"font\": {\n",
    "                            \"size\": 20\n",
    "                        },\n",
    "                        \"showarrow\": False,\n",
    "                        \"text\": \"\",\n",
    "                        \"x\": 0.2,\n",
    "                        \"y\": 0.2\n",
    "                    }\n",
    "                ],\n",
    "                \"showlegend\": True,\n",
    "                \"legend\":dict(fontColor=\"white\",tickfont={'color':'white' }),\n",
    "                \"legenditem\": {\n",
    "    \"textfont\": {\n",
    "       'color':'white'\n",
    "     }\n",
    "              }\n",
    "        } }\n",
    ")"
   ]
  },
  {
   "cell_type": "code",
   "execution_count": 13,
   "id": "d9030a94",
   "metadata": {},
   "outputs": [],
   "source": [
    "graphRow1 = dbc.Row([dbc.Col(map,md=12)])\n",
    "graphRow2 = dbc.Row([dbc.Col(bar1, md=6), dbc.Col(pie3, md=6)])"
   ]
  },
  {
   "cell_type": "code",
   "execution_count": 14,
   "id": "76342a4a",
   "metadata": {},
   "outputs": [
    {
     "name": "stdout",
     "output_type": "stream",
     "text": [
      "Dash is running on http://127.0.0.1:8056/\n",
      "\n",
      " * Serving Flask app '__main__' (lazy loading)\n",
      " * Environment: production\n",
      "\u001b[31m   WARNING: This is a development server. Do not use it in a production deployment.\u001b[0m\n",
      "\u001b[2m   Use a production WSGI server instead.\u001b[0m\n",
      " * Debug mode: on\n"
     ]
    },
    {
     "name": "stderr",
     "output_type": "stream",
     "text": [
      "Traceback (most recent call last):\n",
      "  File \"/home/shemaya/anaconda3/lib/python3.9/site-packages/ipykernel_launcher.py\", line 16, in <module>\n",
      "    app.launch_new_instance()\n",
      "  File \"/home/shemaya/anaconda3/lib/python3.9/site-packages/traitlets/config/application.py\", line 845, in launch_instance\n",
      "    app.initialize(argv)\n",
      "  File \"/home/shemaya/anaconda3/lib/python3.9/site-packages/traitlets/config/application.py\", line 88, in inner\n",
      "    return method(app, *args, **kwargs)\n",
      "  File \"/home/shemaya/anaconda3/lib/python3.9/site-packages/ipykernel/kernelapp.py\", line 632, in initialize\n",
      "    self.init_sockets()\n",
      "  File \"/home/shemaya/anaconda3/lib/python3.9/site-packages/ipykernel/kernelapp.py\", line 282, in init_sockets\n",
      "    self.shell_port = self._bind_socket(self.shell_socket, self.shell_port)\n",
      "  File \"/home/shemaya/anaconda3/lib/python3.9/site-packages/ipykernel/kernelapp.py\", line 229, in _bind_socket\n",
      "    return self._try_bind_socket(s, port)\n",
      "  File \"/home/shemaya/anaconda3/lib/python3.9/site-packages/ipykernel/kernelapp.py\", line 205, in _try_bind_socket\n",
      "    s.bind(\"tcp://%s:%i\" % (self.ip, port))\n",
      "  File \"/home/shemaya/anaconda3/lib/python3.9/site-packages/zmq/sugar/socket.py\", line 214, in bind\n",
      "    super().bind(addr)\n",
      "  File \"zmq/backend/cython/socket.pyx\", line 540, in zmq.backend.cython.socket.Socket.bind\n",
      "  File \"zmq/backend/cython/checkrc.pxd\", line 28, in zmq.backend.cython.checkrc._check_rc\n",
      "zmq.error.ZMQError: Address already in use\n"
     ]
    },
    {
     "ename": "SystemExit",
     "evalue": "1",
     "output_type": "error",
     "traceback": [
      "An exception has occurred, use %tb to see the full traceback.\n",
      "\u001b[0;31mSystemExit\u001b[0m\u001b[0;31m:\u001b[0m 1\n"
     ]
    },
    {
     "name": "stderr",
     "output_type": "stream",
     "text": [
      "/home/shemaya/anaconda3/lib/python3.9/site-packages/IPython/core/interactiveshell.py:3377: UserWarning: To exit: use 'exit', 'quit', or Ctrl-D.\n",
      "  warn(\"To exit: use 'exit', 'quit', or Ctrl-D.\", stacklevel=1)\n"
     ]
    }
   ],
   "source": [
    "app.layout = html.Div([navbar,html.Br(),graphRow1,html.Br(),graphRow2], style={'backgroundColor':'black'})\n",
    "\n",
    "if __name__ == '__main__':\n",
    "    app.run_server(debug=True,port=8056)"
   ]
  },
  {
   "cell_type": "code",
   "execution_count": null,
   "id": "3d63d88b",
   "metadata": {},
   "outputs": [],
   "source": []
  }
 ],
 "metadata": {
  "kernelspec": {
   "display_name": "Python 3 (ipykernel)",
   "language": "python",
   "name": "python3"
  },
  "language_info": {
   "codemirror_mode": {
    "name": "ipython",
    "version": 3
   },
   "file_extension": ".py",
   "mimetype": "text/x-python",
   "name": "python",
   "nbconvert_exporter": "python",
   "pygments_lexer": "ipython3",
   "version": "3.9.12"
  }
 },
 "nbformat": 4,
 "nbformat_minor": 5
}
